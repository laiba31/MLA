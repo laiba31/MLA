{
 "cells": [
  {
   "cell_type": "code",
   "execution_count": 1,
   "metadata": {},
   "outputs": [
    {
     "name": "stdout",
     "output_type": "stream",
     "text": [
      "V\n",
      "Jk\n",
      "Jin\n"
     ]
    }
   ],
   "source": [
    "names=['v', 'jk', 'jin']\n",
    "print(names[0].title())\n",
    "print(names[1].title())\n",
    "print(names[2].title())"
   ]
  },
  {
   "cell_type": "code",
   "execution_count": 2,
   "metadata": {},
   "outputs": [
    {
     "name": "stdout",
     "output_type": "stream",
     "text": [
      "v hi how are you?\n",
      "jk hi how are you?\n",
      "jimin hi how are you?\n"
     ]
    }
   ],
   "source": [
    "names=['v', 'jk', 'jimin']\n",
    "message=\" hi how are you?\"\n",
    "print(names[0]+message)\n",
    "print(names[1]+message)\n",
    "print(names[2]+message)"
   ]
  },
  {
   "cell_type": "code",
   "execution_count": 1,
   "metadata": {},
   "outputs": [
    {
     "name": "stdout",
     "output_type": "stream",
     "text": [
      "i like honda\n",
      "My favourite car is frari\n",
      "i also like BMW\n"
     ]
    }
   ],
   "source": [
    "cars=['BMW', 'frari', 'honda']\n",
    "print(\"i like \" +cars[2])\n",
    "print(\"My favourite car is \" +cars[1])\n",
    "print(\"i also like \" +cars[0])"
   ]
  },
  {
   "cell_type": "code",
   "execution_count": 2,
   "metadata": {},
   "outputs": [
    {
     "name": "stdout",
     "output_type": "stream",
     "text": [
      "Hey RM would you like to join me on dinner?\n",
      "Hey Jimin would you like to join me on dinner?\n",
      "Hey Suga would you like to join me on dinner?\n"
     ]
    }
   ],
   "source": [
    "persons=['RM', 'Jimin', 'Suga']\n",
    "print(\"Hey \"+persons[0]+\" would you like to join me on dinner?\")\n",
    "print(\"Hey \"+persons[1]+\" would you like to join me on dinner?\")\n",
    "print(\"Hey \"+persons[2]+\" would you like to join me on dinner?\")"
   ]
  },
  {
   "cell_type": "code",
   "execution_count": 3,
   "metadata": {},
   "outputs": [
    {
     "name": "stdout",
     "output_type": "stream",
     "text": [
      "Hey RM would you like to join me on dinner?\n",
      "Hey Jimin would you like to join me on dinner?\n",
      "Hey Suga would you like to join me on dinner?\n",
      "RM i am really upset that you can't join me on dinner.\n",
      "Hi RM would you like to join me on dinner?\n",
      "Hi Jimin would you like to join me on dinner?\n",
      "Hi Suga would you like to join me on dinner?\n"
     ]
    }
   ],
   "source": [
    "persons=['RM', 'Jimin', 'Suga']\n",
    "print(\"Hey \"+persons[0]+\" would you like to join me on dinner?\")\n",
    "print(\"Hey \"+persons[1]+\" would you like to join me on dinner?\")\n",
    "print(\"Hey \"+persons[2]+\" would you like to join me on dinner?\")\n",
    "print(persons[0]+\" i am really upset that you can't join me on dinner.\")\n",
    "persons.insert(0,'jin')\n",
    "del persons[0]\n",
    "print(\"Hi \"+persons[0]+\" would you like to join me on dinner?\")\n",
    "print(\"Hi \"+persons[1]+\" would you like to join me on dinner?\")\n",
    "print(\"Hi \"+persons[2]+\" would you like to join me on dinner?\")"
   ]
  },
  {
   "cell_type": "code",
   "execution_count": 8,
   "metadata": {},
   "outputs": [
    {
     "name": "stdout",
     "output_type": "stream",
     "text": [
      "Hey jk would you like to join me on dinner?\n",
      "Hey jimin would you like to join me on dinner?\n",
      "Hey v would you like to join me on dinner?\n",
      "jk i am really upset that you can't join me on dinner\n",
      "Hi jin would you like to join me on dinner?\n",
      "Hi jimin would you like to join me on dinner?\n",
      "Hi v would you like to join me on dinner?\n",
      "\n",
      "I want to invite more guests to join us on dinner.\n",
      "Hi jin would you like to join me on dinner?\n",
      "Hi jimin would you like to join me on dinner?\n",
      "Hi v would you like to join me on dinner?\n",
      "Hi hobi would you like to join me on dinner?\n",
      "Hi RM would you like to join me on dinner?\n",
      "Hi Suga would you like to join me on dinner?\n",
      "\n"
     ]
    }
   ],
   "source": [
    "persons=['jk', 'jimin', 'v']\n",
    "print(\"Hey \"+persons[0]+\" would you like to join me on dinner?\")\n",
    "print(\"Hey \"+persons[1]+\" would you like to join me on dinner?\")\n",
    "print(\"Hey \"+persons[2]+\" would you like to join me on dinner?\")\n",
    "print(persons[0]+\" i am really upset that you can't join me on dinner\")\n",
    "del persons[0]\n",
    "persons.insert(0,'jin')\n",
    "print(\"Hi \"+persons[0]+\" would you like to join me on dinner?\")\n",
    "print(\"Hi \"+persons[1]+\" would you like to join me on dinner?\")\n",
    "print(\"Hi \"+persons[2]+\" would you like to join me on dinner?\\n\")\n",
    "print(\"I want to invite more guests to join us on dinner.\")\n",
    "persons.insert(3,'hobi')\n",
    "persons.insert(4,'RM')\n",
    "persons.append('Suga')\n",
    "print(\"Hi \"+persons[0]+\" would you like to join me on dinner?\")\n",
    "print(\"Hi \"+persons[1]+\" would you like to join me on dinner?\")\n",
    "print(\"Hi \"+persons[2]+\" would you like to join me on dinner?\")\n",
    "print(\"Hi \"+persons[3]+\" would you like to join me on dinner?\")\n",
    "print(\"Hi \"+persons[4]+\" would you like to join me on dinner?\")\n",
    "print(\"Hi \"+persons[5]+\" would you like to join me on dinner?\\n\")"
   ]
  },
  {
   "cell_type": "code",
   "execution_count": 10,
   "metadata": {},
   "outputs": [
    {
     "name": "stdout",
     "output_type": "stream",
     "text": [
      "Hey jk would you like to join me on dinner?\n",
      "Hey jimin would you like to join me on dinner?\n",
      "Hey v would you like to join me on dinner?\n",
      "jk i am really upset that you can't join me on dinner\n",
      "Hi jin would you like to join me on dinner?\n",
      "Hi jimin would you like to join me on dinner?\n",
      "Hi v would you like to join me on dinner?\n",
      "\n",
      "I want to invite more guests to join us on dinner.\n",
      "Hi jin would you like to join me on dinner?\n",
      "Hi jimin would you like to join me on dinner?\n",
      "Hi v would you like to join me on dinner?\n",
      "Hi hobi would you like to join me on dinner?\n",
      "Hi RM would you like to join me on dinner?\n",
      "Hi Suga would you like to join me on dinner?\n",
      "\n",
      "Oh i really feel sorry to inform you that i can invite only two people on dinner.\n",
      "Suga i feel sorry to tell you that i can't invite you.\n",
      "RM i feel sorry to tell you that i can't invite you.\n",
      "hobi i feel sorry to tell you that i can't invite you\n",
      "v i feel sorry to tell you that i can't invite you\n",
      "Hi jin and jimin both of you are invited on dinner!\n",
      "['jin', 'jimin']\n"
     ]
    }
   ],
   "source": [
    "\n",
    "persons=['jk', 'jimin', 'v']\n",
    "print(\"Hey \"+persons[0]+\" would you like to join me on dinner?\")\n",
    "print(\"Hey \"+persons[1]+\" would you like to join me on dinner?\")\n",
    "print(\"Hey \"+persons[2]+\" would you like to join me on dinner?\")\n",
    "print(persons[0]+\" i am really upset that you can't join me on dinner\")\n",
    "del persons[0]\n",
    "persons.insert(0,'jin')\n",
    "print(\"Hi \"+persons[0]+\" would you like to join me on dinner?\")\n",
    "print(\"Hi \"+persons[1]+\" would you like to join me on dinner?\")\n",
    "print(\"Hi \"+persons[2]+\" would you like to join me on dinner?\\n\")\n",
    "print(\"I want to invite more guests to join us on dinner.\")\n",
    "persons.insert(3,'hobi')\n",
    "persons.insert(4,'RM')\n",
    "persons.append('Suga')\n",
    "print(\"Hi \"+persons[0]+\" would you like to join me on dinner?\")\n",
    "print(\"Hi \"+persons[1]+\" would you like to join me on dinner?\")\n",
    "print(\"Hi \"+persons[2]+\" would you like to join me on dinner?\")\n",
    "print(\"Hi \"+persons[3]+\" would you like to join me on dinner?\")\n",
    "print(\"Hi \"+persons[4]+\" would you like to join me on dinner?\")\n",
    "print(\"Hi \"+persons[5]+\" would you like to join me on dinner?\\n\")\n",
    "print(\"Oh i really feel sorry to inform you that i can invite only two people on dinner.\")\n",
    "p1=persons.pop()\n",
    "print(p1+\" i feel sorry to tell you that i can't invite you.\")\n",
    "p1=persons.pop()\n",
    "print(p1+\" i feel sorry to tell you that i can't invite you.\")\n",
    "p1=persons.pop()\n",
    "print(p1+\" i feel sorry to tell you that i can't invite you\")\n",
    "p1=persons.pop()\n",
    "print(p1+\" i feel sorry to tell you that i can't invite you\")\n",
    "print(\"Hi \" +persons[0]+\" and \"+persons[1]+\" both of you are invited on dinner!\")\n",
    "print(persons)"
   ]
  },
  {
   "cell_type": "code",
   "execution_count": 1,
   "metadata": {},
   "outputs": [
    {
     "name": "stdout",
     "output_type": "stream",
     "text": [
      "['Soutj korea', 'UK', 'LA', 'Canada', 'Turkey']\n",
      "['Canada', 'LA', 'Soutj korea', 'Turkey', 'UK']\n",
      "['Soutj korea', 'UK', 'LA', 'Canada', 'Turkey']\n",
      "['UK', 'Turkey', 'Soutj korea', 'LA', 'Canada']\n",
      "['Canada', 'LA', 'Soutj korea', 'Turkey', 'UK']\n",
      "['Canada', 'LA', 'Soutj korea', 'Turkey', 'UK']\n",
      "['UK', 'Turkey', 'Soutj korea', 'LA', 'Canada']\n"
     ]
    }
   ],
   "source": [
    "locations=['Soutj korea', 'UK', 'LA', 'Canada', 'Turkey']\n",
    "print(locations)\n",
    "print(sorted(locations))\n",
    "print(locations)\n",
    "locations.sort(reverse=True)\n",
    "print(locations)\n",
    "locations.sort(reverse=False)\n",
    "print(locations)\n",
    "locations.sort()\n",
    "print(locations)\n",
    "locations.sort(reverse=True)\n",
    "print(locations)"
   ]
  },
  {
   "cell_type": "code",
   "execution_count": 11,
   "metadata": {},
   "outputs": [
    {
     "name": "stdout",
     "output_type": "stream",
     "text": [
      "2\n"
     ]
    }
   ],
   "source": [
    "persons=['JK', 'V']\n",
    "print(len(persons))"
   ]
  },
  {
   "cell_type": "code",
   "execution_count": 14,
   "metadata": {},
   "outputs": [
    {
     "name": "stdout",
     "output_type": "stream",
     "text": [
      "Computer\n",
      "['Computer', 'english', 'Chinese ', 'spanish', 'Spanish']\n",
      "['Computer', 'english', 'Chinese ', 'Chinese ', 'spanish', 'Spanish']\n",
      "Spanish\n",
      "Chinese \n",
      "['Computer', 'english', 'Chinese ', 'spanish']\n",
      "['Computer', 'Chinese ', 'spanish']\n",
      "['Chinese ', 'Computer', 'spanish']\n",
      "['spanish', 'Computer', 'Chinese ']\n",
      "['Chinese ', 'Computer', 'spanish']\n",
      "['spanish', 'Computer', 'Chinese ']\n",
      "['Chinese ', 'Computer', 'spanish']\n",
      "3\n"
     ]
    }
   ],
   "source": [
    "languages=['Computer', 'english', 'Chinese ', \"spanish\"]\n",
    "#using case method:\n",
    "print(languages[0].title())\n",
    "#Appending Elements in a List:\n",
    "languages.append('Spanish')\n",
    "print(languages)\n",
    "#Inserting Elements into a List:\n",
    "languages.insert(2,'Chinese ')\n",
    "print(languages)\n",
    "#Removing an Item Using pop() Method:\n",
    "popped_language=languages.pop()\n",
    "print(popped_language)\n",
    "#Popping Items from any Position:\n",
    "popped_language=languages.pop(3)\n",
    "print(popped_language)\n",
    "print(languages)\n",
    "#Removing an Item by Value:\n",
    "languages.remove('english')\n",
    "print(languages)\n",
    "#Permanent sorting:\n",
    "languages.sort()\n",
    "print(languages)\n",
    "#Reverse Alphabetical Order:\n",
    "languages.sort(reverse=True)\n",
    "print(languages)\n",
    "#Temporary Sorting:\n",
    "print(sorted(languages))\n",
    "print(languages)\n",
    "#Reverse Order:\n",
    "languages.reverse()\n",
    "print(languages)\n",
    "#Finding the Length of a List:\n",
    "print(len(languages))"
   ]
  },
  {
   "cell_type": "code",
   "execution_count": 2,
   "metadata": {},
   "outputs": [
    {
     "name": "stdout",
     "output_type": "stream",
     "text": [
      "Jimin\n"
     ]
    },
    {
     "ename": "IndexError",
     "evalue": "list index out of range",
     "output_type": "error",
     "traceback": [
      "\u001b[1;31m---------------------------------------------------------------------------\u001b[0m",
      "\u001b[1;31mIndexError\u001b[0m                                Traceback (most recent call last)",
      "\u001b[1;32mc:\\Users\\fsl\\Downloads\\chapter3.ipynb Cell 11'\u001b[0m in \u001b[0;36m<cell line: 3>\u001b[1;34m()\u001b[0m\n\u001b[0;32m      <a href='vscode-notebook-cell:/c%3A/Users/fsl/Downloads/chapter3.ipynb#ch0000010?line=0'>1</a>\u001b[0m names\u001b[39m=\u001b[39m[\u001b[39m'\u001b[39m\u001b[39mv\u001b[39m\u001b[39m'\u001b[39m, \u001b[39m'\u001b[39m\u001b[39mjin\u001b[39m\u001b[39m'\u001b[39m, \u001b[39m'\u001b[39m\u001b[39mjimin\u001b[39m\u001b[39m'\u001b[39m]\n\u001b[0;32m      <a href='vscode-notebook-cell:/c%3A/Users/fsl/Downloads/chapter3.ipynb#ch0000010?line=1'>2</a>\u001b[0m \u001b[39mprint\u001b[39m(names[\u001b[39m2\u001b[39m]\u001b[39m.\u001b[39mtitle())\n\u001b[1;32m----> <a href='vscode-notebook-cell:/c%3A/Users/fsl/Downloads/chapter3.ipynb#ch0000010?line=2'>3</a>\u001b[0m \u001b[39mprint\u001b[39m(names[\u001b[39m3\u001b[39;49m]\u001b[39m.\u001b[39mtitle())     \u001b[39m#Index error occurs\u001b[39;00m\n\u001b[0;32m      <a href='vscode-notebook-cell:/c%3A/Users/fsl/Downloads/chapter3.ipynb#ch0000010?line=3'>4</a>\u001b[0m \u001b[39m#Error fixed:\u001b[39;00m\n\u001b[0;32m      <a href='vscode-notebook-cell:/c%3A/Users/fsl/Downloads/chapter3.ipynb#ch0000010?line=4'>5</a>\u001b[0m \u001b[39mprint\u001b[39m(names[\u001b[39m2\u001b[39m]\u001b[39m.\u001b[39mtitle())\n",
      "\u001b[1;31mIndexError\u001b[0m: list index out of range"
     ]
    }
   ],
   "source": [
    "names=['v', 'jin', 'jimin']\n",
    "print(names[2].title())\n",
    "print(names[3].title())     #Index error occurs\n",
    "#Error fixed:\n",
    "print(names[2].title())"
   ]
  }
 ],
 "metadata": {
  "kernelspec": {
   "display_name": "Python 3.10.4 64-bit",
   "language": "python",
   "name": "python3"
  },
  "language_info": {
   "codemirror_mode": {
    "name": "ipython",
    "version": 3
   },
   "file_extension": ".py",
   "mimetype": "text/x-python",
   "name": "python",
   "nbconvert_exporter": "python",
   "pygments_lexer": "ipython3",
   "version": "3.10.4"
  },
  "orig_nbformat": 4,
  "vscode": {
   "interpreter": {
    "hash": "b021e16cafdea0ed387e092adeec941168a3d1ff4c9bc50f8c8adf9ca51e65de"
   }
  }
 },
 "nbformat": 4,
 "nbformat_minor": 2
}
