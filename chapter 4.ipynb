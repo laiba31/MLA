{
 "cells": [
  {
   "cell_type": "code",
   "execution_count": 1,
   "metadata": {},
   "outputs": [
    {
     "name": "stdout",
     "output_type": "stream",
     "text": [
      "peproni\n",
      "Peproni is my favourite one.\n",
      "hawaiian\n",
      "Hawaiian is my favourite one.\n",
      "Margherita\n",
      "Margherita is my favourite one.\n",
      "Hawaiian is my favourite pizza.\n",
      "It's so delicious.\n",
      "I really love pizza.\n"
     ]
    }
   ],
   "source": [
    "favourite_pizza=['peproni', 'hawaiian', 'Margherita']\n",
    "for pizza in favourite_pizza:\n",
    "    print(pizza)\n",
    "    print(pizza.title()+\" is my favourite one.\")\n",
    "print(favourite_pizza[1].title()+ \" is my favourite pizza.\\nIt's so delicious.\\nI really love pizza.\")"
   ]
  },
  {
   "cell_type": "code",
   "execution_count": 2,
   "metadata": {},
   "outputs": [
    {
     "name": "stdout",
     "output_type": "stream",
     "text": [
      "[64, 729, 4096, 15625, 46656, 117649, 262144, 531441, 1000000, 1771561, 2985984, 4826809, 7529536, 11390625, 16777216, 24137569, 34012224, 47045881, 64000000, 85766121]\n"
     ]
    }
   ],
   "source": [
    "cube=[value**6 for value in range(2,22)]\n",
    "print(cube)"
   ]
  }
 ],
 "metadata": {
  "kernelspec": {
   "display_name": "Python 3.10.4 64-bit",
   "language": "python",
   "name": "python3"
  },
  "language_info": {
   "codemirror_mode": {
    "name": "ipython",
    "version": 3
   },
   "file_extension": ".py",
   "mimetype": "text/x-python",
   "name": "python",
   "nbconvert_exporter": "python",
   "pygments_lexer": "ipython3",
   "version": "3.10.4"
  },
  "orig_nbformat": 4,
  "vscode": {
   "interpreter": {
    "hash": "b021e16cafdea0ed387e092adeec941168a3d1ff4c9bc50f8c8adf9ca51e65de"
   }
  }
 },
 "nbformat": 4,
 "nbformat_minor": 2
}
