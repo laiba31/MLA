{
 "cells": [
  {
   "cell_type": "code",
   "execution_count": 1,
   "metadata": {},
   "outputs": [
    {
     "name": "stdout",
     "output_type": "stream",
     "text": [
      "Laiba here!\n"
     ]
    }
   ],
   "source": [
    "#2.1: Simple Message:\n",
    "Simple_Msg = \"Laiba here\"\n",
    "print(Simple_Msg)"
   ]
  },
  {
   "cell_type": "code",
   "execution_count": 2,
   "metadata": {},
   "outputs": [
    {
     "name": "stdout",
     "output_type": "stream",
     "text": [
      "I learn Python\n",
      "It's usefull\n"
     ]
    }
   ],
   "source": [
    "#2.2:Message:\n",
    "message = \"I learn Python\"\n",
    "print(message)\n",
    "msg = \"It's usefull\"\n",
    "print(msg)"
   ]
  },
  {
   "cell_type": "code",
   "execution_count": 3,
   "metadata": {},
   "outputs": [
    {
     "name": "stdout",
     "output_type": "stream",
     "text": [
      "Hi Ayesha, see you soon\n"
     ]
    }
   ],
   "source": [
    "# 2.3:Personal Message:\n",
    "name = \"Ayesha\"\n",
    "print(\"Hi \" + name + \", see you soon\")"
   ]
  },
  {
   "cell_type": "code",
   "execution_count": 4,
   "metadata": {},
   "outputs": [
    {
     "name": "stdout",
     "output_type": "stream",
     "text": [
      "laiba\n",
      "LAIBA\n",
      "Laiba\n"
     ]
    }
   ],
   "source": [
    "# 2.4 Name Cases:\n",
    "\n",
    "Name = \"Laiba\"\n",
    "print(Name.lower())\n",
    "print(Name.upper())\n",
    "print(Name.title())"
   ]
  },
  {
   "cell_type": "code",
   "execution_count": 5,
   "metadata": {},
   "outputs": [
    {
     "name": "stdout",
     "output_type": "stream",
     "text": [
      "\tQuaid said, “my message to all is\n",
      "\thope, courage and confidence.”\n"
     ]
    }
   ],
   "source": [
    "#2.5 Famous Quote:\n",
    "print(\"\\tQuaid said, “my message to all is\\n\\thope, courage and confidence.”\")"
   ]
  },
  {
   "cell_type": "code",
   "execution_count": 1,
   "metadata": {},
   "outputs": [
    {
     "name": "stdout",
     "output_type": "stream",
     "text": [
      "\tQuaid-i-Azam said, “my message to all is\n",
      "\thope, courage and confidence.”\n"
     ]
    }
   ],
   "source": [
    "#2.6 Famous Quote 2:\n",
    "Famous_person = \"\\tQuaid-i-Azam\"\n",
    "msg = \" said, “my message to all is\\n\\thope, courage and confidence.”\"\n",
    "print(Famous_person + msg)"
   ]
  },
  {
   "cell_type": "code",
   "execution_count": 3,
   "metadata": {},
   "outputs": [
    {
     "name": "stdout",
     "output_type": "stream",
     "text": [
      "\tLaiba Noor\n",
      "\n",
      "lstrip:\n",
      "Laiba Noor\n",
      "\n",
      "rstip:\n",
      "\tLaiba Noor\n",
      "strip:\n",
      "Laiba Noor\n"
     ]
    }
   ],
   "source": [
    "#2.7 Stripping Names:\n",
    "name = \"\\tLaiba Noor\\n\"\n",
    "print(name)\n",
    "print(\"lstrip:\")\n",
    "print(name.lstrip())\n",
    "print(\"rstip:\")\n",
    "print(name.rstrip())\n",
    "print(\"strip:\")\n",
    "print(name.strip())"
   ]
  },
  {
   "cell_type": "code",
   "execution_count": 8,
   "metadata": {},
   "outputs": [
    {
     "name": "stdout",
     "output_type": "stream",
     "text": [
      "8\n",
      "8\n",
      "8\n",
      "8.0\n"
     ]
    }
   ],
   "source": [
    "#2.8 Number Eight:\n",
    "print(4+4)\n",
    "print(10-2)\n",
    "print(4*2)\n",
    "print(16/2)"
   ]
  },
  {
   "cell_type": "code",
   "execution_count": 9,
   "metadata": {},
   "outputs": [
    {
     "name": "stdout",
     "output_type": "stream",
     "text": [
      "7 is my favorite number.\n"
     ]
    }
   ],
   "source": [
    "#2.9 Favourite Number:\n",
    "x = 7\n",
    "y = \" is my favorite number.\"\n",
    "print(str(x) + y)"
   ]
  },
  {
   "cell_type": "code",
   "execution_count": 10,
   "metadata": {},
   "outputs": [
    {
     "name": "stdout",
     "output_type": "stream",
     "text": [
      "8\n",
      "8\n",
      "8\n",
      "8.0\n",
      "My favorite number is 7\n"
     ]
    }
   ],
   "source": [
    "# 2.10 Adding Comments:\n",
    "# addition\n",
    "print(4+4)\n",
    "# subtraction\n",
    "print(10-2)\n",
    "# multiplication\n",
    "print(4*2)\n",
    "# division\n",
    "print(16/2)\n",
    "#Favourite number:\n",
    "x = 7\n",
    "print(\"My favorite number is \" + str(x))"
   ]
  },
  {
   "cell_type": "code",
   "execution_count": 1,
   "metadata": {},
   "outputs": [
    {
     "name": "stdout",
     "output_type": "stream",
     "text": [
      "The Zen of Python, by Tim Peters\n",
      "\n",
      "Beautiful is better than ugly.\n",
      "Explicit is better than implicit.\n",
      "Simple is better than complex.\n",
      "Complex is better than complicated.\n",
      "Flat is better than nested.\n",
      "Sparse is better than dense.\n",
      "Readability counts.\n",
      "Special cases aren't special enough to break the rules.\n",
      "Although practicality beats purity.\n",
      "Errors should never pass silently.\n",
      "Unless explicitly silenced.\n",
      "In the face of ambiguity, refuse the temptation to guess.\n",
      "There should be one-- and preferably only one --obvious way to do it.\n",
      "Although that way may not be obvious at first unless you're Dutch.\n",
      "Now is better than never.\n",
      "Although never is often better than *right* now.\n",
      "If the implementation is hard to explain, it's a bad idea.\n",
      "If the implementation is easy to explain, it may be a good idea.\n",
      "Namespaces are one honking great idea -- let's do more of those!\n"
     ]
    }
   ],
   "source": [
    "# 2-11 Zen of Python:\n",
    "\n",
    "import this"
   ]
  }
 ],
 "metadata": {
  "kernelspec": {
   "display_name": "Python 3.10.4 64-bit",
   "language": "python",
   "name": "python3"
  },
  "language_info": {
   "codemirror_mode": {
    "name": "ipython",
    "version": 3
   },
   "file_extension": ".py",
   "mimetype": "text/x-python",
   "name": "python",
   "nbconvert_exporter": "python",
   "pygments_lexer": "ipython3",
   "version": "3.10.4"
  },
  "orig_nbformat": 4,
  "vscode": {
   "interpreter": {
    "hash": "b021e16cafdea0ed387e092adeec941168a3d1ff4c9bc50f8c8adf9ca51e65de"
   }
  }
 },
 "nbformat": 4,
 "nbformat_minor": 2
}
